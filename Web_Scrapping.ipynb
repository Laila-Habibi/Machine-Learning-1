{
  "nbformat": 4,
  "nbformat_minor": 0,
  "metadata": {
    "colab": {
      "provenance": []
    },
    "kernelspec": {
      "name": "python3",
      "display_name": "Python 3"
    },
    "language_info": {
      "name": "python"
    }
  },
  "cells": [
    {
      "cell_type": "code",
      "execution_count": 3,
      "metadata": {
        "id": "x8_pCV_4a_rK"
      },
      "outputs": [],
      "source": [
        "import requests\n",
        "from bs4 import BeautifulSoup\n",
        "import pandas as pd\n"
      ]
    },
    {
      "cell_type": "code",
      "source": [
        "url = \"http://books.toscrape.com/catalogue/category/books_1/index.html\"\n",
        "headers = {\"User-Agent\": \"Mozilla/5.0\"}\n"
      ],
      "metadata": {
        "id": "GlrayuZ8dehZ"
      },
      "execution_count": 4,
      "outputs": []
    },
    {
      "cell_type": "code",
      "source": [
        "response = requests.get(url, headers=headers)\n",
        "if response.status_code == 200:\n",
        "    print(\"Page fetched successfully!\")\n",
        "else:\n",
        "    print(\"Failed to fetch page\")\n"
      ],
      "metadata": {
        "colab": {
          "base_uri": "https://localhost:8080/"
        },
        "id": "UkqDOU5UdjQe",
        "outputId": "1e070baf-ec38-4dba-90f2-14469217f78b"
      },
      "execution_count": 5,
      "outputs": [
        {
          "output_type": "stream",
          "name": "stdout",
          "text": [
            "Page fetched successfully!\n"
          ]
        }
      ]
    },
    {
      "cell_type": "code",
      "source": [
        "soup = BeautifulSoup(response.text, \"html.parser\")\n",
        "books = soup.select(\"article.product_pod\")\n",
        "print(f\"Found {len(books)} books on the page\")\n"
      ],
      "metadata": {
        "colab": {
          "base_uri": "https://localhost:8080/"
        },
        "id": "Iv_NJx8rdm6t",
        "outputId": "5258a0b4-0447-4624-8d32-b0eb4bc1d99c"
      },
      "execution_count": 6,
      "outputs": [
        {
          "output_type": "stream",
          "name": "stdout",
          "text": [
            "Found 20 books on the page\n"
          ]
        }
      ]
    },
    {
      "cell_type": "code",
      "source": [
        "data = []\n",
        "for book in books:\n",
        "    title = book.h3.a['title']\n",
        "    price = book.select_one(\"p.price_color\").text\n",
        "    availability = book.select_one(\"p.instock.availability\").text.strip()\n",
        "    data.append({\"title\": title, \"price\": price, \"availability\": availability})\n"
      ],
      "metadata": {
        "id": "x75W2ErPdqCl"
      },
      "execution_count": 7,
      "outputs": []
    },
    {
      "cell_type": "code",
      "source": [
        "df = pd.DataFrame(data)\n",
        "print(df.head())\n"
      ],
      "metadata": {
        "colab": {
          "base_uri": "https://localhost:8080/"
        },
        "id": "KDi5-gCgdtfI",
        "outputId": "dc8e7514-73b9-4645-dfc1-2b3e36603f3c"
      },
      "execution_count": 8,
      "outputs": [
        {
          "output_type": "stream",
          "name": "stdout",
          "text": [
            "                                   title    price availability\n",
            "0                   A Light in the Attic  Â£51.77     In stock\n",
            "1                     Tipping the Velvet  Â£53.74     In stock\n",
            "2                             Soumission  Â£50.10     In stock\n",
            "3                          Sharp Objects  Â£47.82     In stock\n",
            "4  Sapiens: A Brief History of Humankind  Â£54.23     In stock\n"
          ]
        }
      ]
    },
    {
      "cell_type": "code",
      "source": [
        "df.to_csv(\"books_prices.csv\", index=False)\n",
        "print(\"Saved to books_prices.csv\")\n"
      ],
      "metadata": {
        "colab": {
          "base_uri": "https://localhost:8080/"
        },
        "id": "nFX_uKYBdwuS",
        "outputId": "f1f72463-5268-4d52-ff56-362375a22dea"
      },
      "execution_count": 9,
      "outputs": [
        {
          "output_type": "stream",
          "name": "stdout",
          "text": [
            "Saved to books_prices.csv\n"
          ]
        }
      ]
    }
  ]
}